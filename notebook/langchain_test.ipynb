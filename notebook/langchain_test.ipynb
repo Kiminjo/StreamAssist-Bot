{
 "cells": [
  {
   "cell_type": "code",
   "execution_count": 1,
   "metadata": {},
   "outputs": [],
   "source": [
    "from langchain.chat_models import ChatOpenAI\n",
    "from langchain.embeddings import OpenAIEmbeddings\n",
    "from langchain.embeddings import HuggingFaceEmbeddings\n",
    "from langchain.document_loaders import TextLoader\n",
    "from langchain.text_splitter import CharacterTextSplitter\n",
    "from langchain.indexes import VectorstoreIndexCreator\n",
    "from langchain.vectorstores import FAISS"
   ]
  },
  {
   "cell_type": "markdown",
   "metadata": {},
   "source": [
    "## Preprocessing \n",
    "- API 키 불러오기 \n",
    "- 데이터 불러오기 \n",
    "- 데이터 전처리\n",
    "    - 청크 단위 스플릿"
   ]
  },
  {
   "cell_type": "code",
   "execution_count": 2,
   "metadata": {},
   "outputs": [
    {
     "name": "stderr",
     "output_type": "stream",
     "text": [
      "Created a chunk of size 67, which is longer than the specified 30\n",
      "Created a chunk of size 142, which is longer than the specified 30\n",
      "Created a chunk of size 163, which is longer than the specified 30\n",
      "Created a chunk of size 258, which is longer than the specified 30\n",
      "Created a chunk of size 76, which is longer than the specified 30\n",
      "Created a chunk of size 259, which is longer than the specified 30\n",
      "Created a chunk of size 313, which is longer than the specified 30\n",
      "Created a chunk of size 154, which is longer than the specified 30\n",
      "Created a chunk of size 35, which is longer than the specified 30\n",
      "Created a chunk of size 47, which is longer than the specified 30\n",
      "Created a chunk of size 35, which is longer than the specified 30\n",
      "Created a chunk of size 43, which is longer than the specified 30\n",
      "Created a chunk of size 46, which is longer than the specified 30\n",
      "Created a chunk of size 41, which is longer than the specified 30\n",
      "Created a chunk of size 73, which is longer than the specified 30\n",
      "Created a chunk of size 46, which is longer than the specified 30\n",
      "Created a chunk of size 41, which is longer than the specified 30\n",
      "Created a chunk of size 45, which is longer than the specified 30\n",
      "Created a chunk of size 34, which is longer than the specified 30\n",
      "Created a chunk of size 39, which is longer than the specified 30\n",
      "Created a chunk of size 31, which is longer than the specified 30\n",
      "Created a chunk of size 32, which is longer than the specified 30\n",
      "Created a chunk of size 40, which is longer than the specified 30\n",
      "Created a chunk of size 32, which is longer than the specified 30\n",
      "Created a chunk of size 35, which is longer than the specified 30\n",
      "Created a chunk of size 38, which is longer than the specified 30\n",
      "Created a chunk of size 37, which is longer than the specified 30\n",
      "Created a chunk of size 64, which is longer than the specified 30\n",
      "Created a chunk of size 53, which is longer than the specified 30\n",
      "Created a chunk of size 88, which is longer than the specified 30\n",
      "Created a chunk of size 72, which is longer than the specified 30\n",
      "Created a chunk of size 44, which is longer than the specified 30\n",
      "Created a chunk of size 48, which is longer than the specified 30\n",
      "Created a chunk of size 32, which is longer than the specified 30\n",
      "Created a chunk of size 39, which is longer than the specified 30\n",
      "Created a chunk of size 39, which is longer than the specified 30\n",
      "Created a chunk of size 50, which is longer than the specified 30\n",
      "Created a chunk of size 73, which is longer than the specified 30\n",
      "Created a chunk of size 150, which is longer than the specified 30\n",
      "Created a chunk of size 41, which is longer than the specified 30\n",
      "Created a chunk of size 173, which is longer than the specified 30\n",
      "Created a chunk of size 85, which is longer than the specified 30\n",
      "Created a chunk of size 100, which is longer than the specified 30\n",
      "Created a chunk of size 56, which is longer than the specified 30\n",
      "Created a chunk of size 67, which is longer than the specified 30\n",
      "Created a chunk of size 92, which is longer than the specified 30\n",
      "Created a chunk of size 79, which is longer than the specified 30\n",
      "Created a chunk of size 84, which is longer than the specified 30\n",
      "Created a chunk of size 32, which is longer than the specified 30\n",
      "Created a chunk of size 128, which is longer than the specified 30\n",
      "Created a chunk of size 89, which is longer than the specified 30\n",
      "Created a chunk of size 93, which is longer than the specified 30\n",
      "Created a chunk of size 98, which is longer than the specified 30\n",
      "Created a chunk of size 72, which is longer than the specified 30\n",
      "Created a chunk of size 100, which is longer than the specified 30\n",
      "Created a chunk of size 74, which is longer than the specified 30\n",
      "Created a chunk of size 246, which is longer than the specified 30\n",
      "Created a chunk of size 73, which is longer than the specified 30\n",
      "Created a chunk of size 80, which is longer than the specified 30\n",
      "Created a chunk of size 128, which is longer than the specified 30\n",
      "Created a chunk of size 89, which is longer than the specified 30\n",
      "Created a chunk of size 70, which is longer than the specified 30\n",
      "Created a chunk of size 93, which is longer than the specified 30\n",
      "Created a chunk of size 138, which is longer than the specified 30\n",
      "Created a chunk of size 166, which is longer than the specified 30\n",
      "Created a chunk of size 71, which is longer than the specified 30\n",
      "Created a chunk of size 108, which is longer than the specified 30\n",
      "Created a chunk of size 68, which is longer than the specified 30\n",
      "Created a chunk of size 122, which is longer than the specified 30\n",
      "Created a chunk of size 68, which is longer than the specified 30\n",
      "Created a chunk of size 65, which is longer than the specified 30\n",
      "Created a chunk of size 81, which is longer than the specified 30\n",
      "Created a chunk of size 62, which is longer than the specified 30\n",
      "Created a chunk of size 42, which is longer than the specified 30\n",
      "Created a chunk of size 74, which is longer than the specified 30\n"
     ]
    }
   ],
   "source": [
    "# Read txt data \n",
    "loader = TextLoader(\"../data/data.txt\",encoding=\"utf-8\")\n",
    "text=loader.load()\n",
    "\n",
    "# Read API Key \n",
    "with open(\"../openai_api.txt\", \"r\") as f: \n",
    "    api_key = f.readline()\n",
    "    f.close()\n",
    "\n",
    "# Text preprocessing -> split and make chunk\n",
    "text_splitter = CharacterTextSplitter(chunk_size=30, \n",
    "                                      separator=\"\\n\\n\",\n",
    "                                      chunk_overlap=10)\n",
    "docs = text_splitter.split_documents(text)"
   ]
  },
  {
   "cell_type": "markdown",
   "metadata": {},
   "source": [
    "## Embedding \n",
    "- 텍스트를 넣어 임베딩 "
   ]
  },
  {
   "cell_type": "code",
   "execution_count": null,
   "metadata": {},
   "outputs": [],
   "source": [
    "# Make Embedding using OpenAI Embedding\n",
    "embeddings = OpenAIEmbeddings(openai_api_key=api_key)\n",
    "# embeddings = HuggingFaceEmbeddings()\n",
    "\n",
    "# Make embdding and change db form\n",
    "db = FAISS.from_documents(docs, embeddings)"
   ]
  },
  {
   "cell_type": "code",
   "execution_count": null,
   "metadata": {},
   "outputs": [],
   "source": [
    "print(db.index.ntotal)"
   ]
  },
  {
   "cell_type": "markdown",
   "metadata": {},
   "source": [
    "# 실험 1. DB 검색 시간 이슈 \n",
    "- 지속적으로 쿼리를 보내니 3번쨰 쿼리 이후로는 대답 속도가 느려지는 문제가 발생한다. \n",
    "    - DB에서 검색을 하는데 과부하가 걸리는 것으로 판단됨 \n",
    "\n",
    "- 실험: 쿼리 사이에 랜덤한 지연 시간을 주고 쿼리를 보냈을 때 바로 응답이 나오는지 확인 "
   ]
  },
  {
   "cell_type": "code",
   "execution_count": null,
   "metadata": {},
   "outputs": [],
   "source": [
    "queries = [\"유퀴즈하고 아쉬웠던 점은 무엇인가요?\", \n",
    "           \"유퀴즈 할때 아쉬운점\",\n",
    "           \"유퀴즈 찍을때 아쉬웠던 점\",\n",
    "           \"유퀴즈하고 아쉬웠던 점\", \n",
    "           \"유퀴즈 하고 아쉬운점\",  # 4 \n",
    "           \"사모님도 다시 태어나면 침착맨님과 결혼하실까요?\",\n",
    "           \"사모님과 재결혼 의사는?\",\n",
    "           \"사모님이 좋아요?\",\n",
    "           \"강연 안하시는 이유가 있나요?\",    # 8\n",
    "           \"강연 왜 안해요?\",\n",
    "           \"말년아 우리 학교에서 수업 좀 해줘\"]"
   ]
  },
  {
   "cell_type": "code",
   "execution_count": null,
   "metadata": {},
   "outputs": [],
   "source": [
    "# 시간 지연을 적용한 코드 \n",
    "import time\n",
    "import random \n",
    "\n",
    "for query in queries:\n",
    "    # random time between 5, 10\n",
    "    delayed_time = random.randint(5, 10)\n",
    "\n",
    "    # time measure start \n",
    "    start_time = time.time()\n",
    "\n",
    "    # search \n",
    "    docs = db.similarity_search(query)\n",
    "\n",
    "    # time measure end \n",
    "    end_time = time.time()\n",
    "\n",
    "    # print\n",
    "    print(f\"Query: {query}\")\n",
    "    print(f\"Matched doc: {docs[0].page_content}\")\n",
    "    print(f\"Time: {end_time - start_time}\")\n",
    "    print(\"\\n\")\n",
    "    print(\"----------------------------------\")\n",
    "\n",
    "    time.sleep(delayed_time)"
   ]
  },
  {
   "cell_type": "markdown",
   "metadata": {},
   "source": [
    "- 처음에는 일정하게 3초-6초 정도의 응답 시간을 보이다가 약 4번째 쿼리 이후 급격히 시간이 향상하는 것을 확인하였음 \n",
    "- 중간중간 다시 3초대로 응답을 하는 경우가 있음 "
   ]
  },
  {
   "cell_type": "code",
   "execution_count": null,
   "metadata": {},
   "outputs": [],
   "source": [
    "# 시간 지연을 적용하지 않은 코드 \n",
    "import time\n",
    "import random \n",
    "\n",
    "for query in queries:\n",
    "    # time measure start \n",
    "    start_time = time.time()\n",
    "\n",
    "    # search \n",
    "    docs = db.similarity_search(query)\n",
    "\n",
    "    # time measure end \n",
    "    end_time = time.time()\n",
    "\n",
    "    # print\n",
    "    print(f\"Query: {query}\")\n",
    "    print(f\"Matched doc: {docs[0].page_content}\")\n",
    "    print(f\"Time: {end_time - start_time}\")\n",
    "    print(\"\\n\")\n",
    "    print(\"----------------------------------\")"
   ]
  },
  {
   "cell_type": "code",
   "execution_count": null,
   "metadata": {},
   "outputs": [],
   "source": [
    "# 시간 지연을 15-20초 적용한 코드 \n",
    "import time\n",
    "import random \n",
    "\n",
    "for query in queries:\n",
    "    # random time between 15, 20\n",
    "    delayed_time = random.randint(15, 20)\n",
    "\n",
    "    # time measure start \n",
    "    start_time = time.time()\n",
    "\n",
    "    # search \n",
    "    docs = db.similarity_search(query)\n",
    "\n",
    "    # time measure end \n",
    "    end_time = time.time()\n",
    "\n",
    "    # print\n",
    "    print(f\"Query: {query}\")\n",
    "    print(f\"Matched doc: {docs[0].page_content}\")\n",
    "    print(f\"Time: {end_time - start_time}\")\n",
    "    print(\"\\n\")\n",
    "    print(\"----------------------------------\")\n",
    "\n",
    "    time.sleep(delayed_time)"
   ]
  },
  {
   "cell_type": "markdown",
   "metadata": {},
   "source": [
    "- 결과: 15, 20초 가량의 지연 시간을 제공하니 즉각적인 응답을 제공하는 것을 확인하였음 \n",
    "    - 하나의 쿼리를 처리하는데 제한되는 시간이 있는 것으로 판단됨 "
   ]
  },
  {
   "cell_type": "markdown",
   "metadata": {},
   "source": [
    "## 1-1. Chorma DB로 변경 \n",
    "- FAISS에서는 검색이 누적되면은 검색 시간이 증가하는 문제가 발생하였음 \n",
    "- 이에 검색 데이터베이스를 Chorma로 변경하여 검색 시간에 이상이 없는지 확인하고자 함 "
   ]
  },
  {
   "cell_type": "code",
   "execution_count": null,
   "metadata": {},
   "outputs": [],
   "source": [
    "from langchain_community.vectorstores import Chroma\n",
    "\n",
    "# Make Embedding using OpenAI Embedding\n",
    "embeddings = OpenAIEmbeddings(openai_api_key=api_key)\n",
    "# embeddings = HuggingFaceEmbeddings()\n",
    "\n",
    "# Make embdding and change db form\n",
    "db = Chroma.from_documents(docs, embeddings)"
   ]
  },
  {
   "cell_type": "code",
   "execution_count": null,
   "metadata": {},
   "outputs": [],
   "source": [
    "queries = [\"유퀴즈하고 아쉬웠던 점은 무엇인가요?\", \n",
    "           \"유퀴즈 할때 아쉬운점\",\n",
    "           \"유퀴즈 찍을때 아쉬웠던 점\",\n",
    "           \"유퀴즈하고 아쉬웠던 점\", \n",
    "           \"유퀴즈 하고 아쉬운점\",  # 4 \n",
    "           \"사모님도 다시 태어나면 침착맨님과 결혼하실까요?\",\n",
    "           \"사모님과 재결혼 의사는?\",\n",
    "           \"사모님이 좋아요?\",\n",
    "           \"강연 안하시는 이유가 있나요?\",    # 8\n",
    "           \"강연 왜 안해요?\",\n",
    "           \"말년아 우리 학교에서 수업 좀 해줘\"]"
   ]
  },
  {
   "cell_type": "code",
   "execution_count": null,
   "metadata": {},
   "outputs": [],
   "source": [
    "# 시간 지연을 적용하지 않은 코드 \n",
    "import time\n",
    "\n",
    "for query in queries:\n",
    "    # time measure start \n",
    "    start_time = time.time()\n",
    "\n",
    "    # search \n",
    "    docs = db.similarity_search(query)\n",
    "\n",
    "    # time measure end \n",
    "    end_time = time.time()\n",
    "\n",
    "    # print\n",
    "    print(f\"Query: {query}\")\n",
    "    print(f\"Matched doc: {docs[0].page_content}\")\n",
    "    print(f\"Time: {end_time - start_time}\")\n",
    "    print(\"\\n\")\n",
    "    print(\"----------------------------------\")"
   ]
  },
  {
   "cell_type": "markdown",
   "metadata": {},
   "source": [
    "- 결과: Chroma DB도 동일한 문제가 발생하는 것을 확인하였음 \n",
    "    - 이건 langchain 자체의 문제라고 판단됨 "
   ]
  },
  {
   "cell_type": "code",
   "execution_count": null,
   "metadata": {},
   "outputs": [],
   "source": []
  }
 ],
 "metadata": {
  "kernelspec": {
   "display_name": "py39",
   "language": "python",
   "name": "python3"
  },
  "language_info": {
   "codemirror_mode": {
    "name": "ipython",
    "version": 3
   },
   "file_extension": ".py",
   "mimetype": "text/x-python",
   "name": "python",
   "nbconvert_exporter": "python",
   "pygments_lexer": "ipython3",
   "version": "3.9.17"
  }
 },
 "nbformat": 4,
 "nbformat_minor": 2
}
