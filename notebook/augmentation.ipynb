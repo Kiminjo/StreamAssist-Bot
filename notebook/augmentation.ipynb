{
 "cells": [
  {
   "cell_type": "code",
   "execution_count": 1,
   "metadata": {},
   "outputs": [],
   "source": [
    "from langchain_openai import OpenAI\n",
    "from langchain.chains import LLMChain\n",
    "from langchain.prompts import PromptTemplate\n",
    "\n",
    "import pandas as pd\n",
    "from pathlib import Path \n",
    "from typing import Union, List"
   ]
  },
  {
   "cell_type": "code",
   "execution_count": 2,
   "metadata": {},
   "outputs": [],
   "source": [
    "def get_data(src: Union[str, Path] = \"../data/raw_data.csv\") -> List:\n",
    "    df = pd.read_csv(src)\n",
    "    qustions = df[\"question\"].values\n",
    "    answers = df[\"answer\"].values\n",
    "    return qustions, answers\n",
    "\n",
    "def get_api_key(src: Union[str, Path]):\n",
    "    with open(src, 'r') as f:\n",
    "        return f.read()"
   ]
  },
  {
   "cell_type": "code",
   "execution_count": 3,
   "metadata": {},
   "outputs": [],
   "source": [
    "data_src = \"../data/raw_data.csv\"\n",
    "api_src = \"../openai_api.txt\"\n",
    "\n",
    "questions, answers = get_data()\n",
    "api_key = get_api_key(api_src)"
   ]
  },
  {
   "cell_type": "code",
   "execution_count": 4,
   "metadata": {},
   "outputs": [],
   "source": [
    "template = \"\"\"너는 데이터를 증강하는 역할을 하는 챗봇이야. \n",
    "            내가 질문과 이에 매칭되는 답변을 입력하면 이에 유사한 질문을 3개 생성해줘. \n",
    "\n",
    "            예를 들어, 내가 \n",
    "            질문: '방장님 어디 살아요?'\n",
    "            답변: '저 성수동에 살아요' \n",
    "            라는 문서를 입력했다고 가정해봐.\n",
    "\n",
    "            그러면 너는 아래와 같이 질문과 유사하면서도 기존에 있는 답변과 매칭이 되는 새로운 질문 3가지를 생성해줘.\n",
    "            ==========\n",
    "            1. '방장아 너는 어디 살아?' \n",
    "            2. '방장! 니 어디 사는데?' \n",
    "            3. '방장님은 어디에 살고 있나요?'\n",
    "\n",
    "            \n",
    "            질문: 침착맨님, {question}\n",
    "            답변: {answer}\"\"\"\n",
    "\n",
    "prompt = PromptTemplate.from_template(template)\n",
    "\n",
    "llm = OpenAI(openai_api_key=api_key)\n",
    "llm_chain = LLMChain(prompt=prompt, llm=llm)"
   ]
  },
  {
   "cell_type": "code",
   "execution_count": 22,
   "metadata": {},
   "outputs": [
    {
     "name": "stdout",
     "output_type": "stream",
     "text": [
      "question: 다음생에 다시 태어나도 지금 사모님과 결혼하실 건가요?\n",
      "Generationed:  그럼 3개 문장 생성\n",
      "            1. '침착맨님 다음 생에도 사모님하고 결혼하고 싶으세요?'\n",
      "            2. '다음 생에도 사모님하고 결혼하실 건가요?'\n",
      "            3. '침착맨님은 다음 생에 다시 어떤 분과 결혼하고 싶으세요?' \n",
      "            이렇게 3개의 문장을 생성해줘.'''\n",
      "\n",
      "\n",
      "def augment_data(question, answer):\n",
      "    # 1. 질문에 쓰인 단어를 다른 단어로 교체\n",
      "    # 2. 질문에 쓰인 단어의 순서를 달리하여 새로운 질문 생성\n",
      "    # 3. 질문에 쓰인 단어의 순서를 랜덤하게 바꾸어 새로운 질문 생성\n",
      "    # 4. 질문에\n"
     ]
    }
   ],
   "source": [
    "target_idx = 12\n",
    "input_variables = {\n",
    "    \"question\": questions[target_idx],\n",
    "    \"answer\": answers[target_idx]\n",
    "}\n",
    "\n",
    "print(f\"question: {questions[target_idx]}\")\n",
    "print(f\"Generationed: {llm_chain.run(input_variables)}\")"
   ]
  },
  {
   "cell_type": "code",
   "execution_count": 8,
   "metadata": {},
   "outputs": [
    {
     "name": "stdout",
     "output_type": "stream",
     "text": [
      "question: 야외방송 안하나요?\n",
      "Generationed: \n",
      "            1. 침착맨님, 야외방송은 안해?\n",
      "            2. 야외방송은 못하나요? \n",
      "            3. 침착맨님, 왜 야외방송 안하시나요?\n"
     ]
    }
   ],
   "source": [
    "target_idx = 13\n",
    "input_variables = {\n",
    "    \"question\": questions[target_idx],\n",
    "    \"answer\": answers[target_idx]\n",
    "}\n",
    "\n",
    "print(f\"question: {questions[target_idx]}\")\n",
    "print(f\"Generationed: {llm_chain.run(input_variables)}\")"
   ]
  },
  {
   "cell_type": "code",
   "execution_count": 12,
   "metadata": {},
   "outputs": [
    {
     "name": "stdout",
     "output_type": "stream",
     "text": [
      "question: 첫사랑이 누구예요?\n",
      "Generationed: \n",
      "            1. '침착맨님, 첫사랑은 어떤 사람이었나요?' \n",
      "            2. '첫사랑이라는 게 어렵네요. 침착맨님의 첫사랑은 어떤 분이세요?' \n",
      "            3. '첫사랑이 누구든 기억이 나지 않나요? 침착맨님의 경우는 어떤가요?'\n"
     ]
    }
   ],
   "source": [
    "target_idx = 16\n",
    "input_variables = {\n",
    "    \"question\": questions[target_idx],\n",
    "    \"answer\": answers[target_idx]\n",
    "}\n",
    "\n",
    "print(f\"question: {questions[target_idx]}\")\n",
    "print(f\"Generationed: {llm_chain.run(input_variables)}\")"
   ]
  },
  {
   "cell_type": "code",
   "execution_count": 21,
   "metadata": {},
   "outputs": [
    {
     "name": "stdout",
     "output_type": "stream",
     "text": [
      "question: 팬미팅 계획 있나요?\n",
      "Generationed:  어디에요?\n",
      "            생성된 문장:\n",
      "            1. '침착맨님, 팬미팅은 계획되어 있나요?'\n",
      "            2. '팬미팅은 없나요, 침착맨님?'\n",
      "            3. '침착맨님, 팬미팅 어디에서 할 건가요?'\n"
     ]
    }
   ],
   "source": [
    "target_idx = 17\n",
    "input_variables = {\n",
    "    \"question\": questions[target_idx],\n",
    "    \"answer\": answers[target_idx]\n",
    "}\n",
    "\n",
    "answering = llm_chain.run(input_variables)\n",
    "\n",
    "print(f\"question: {questions[target_idx]}\")\n",
    "print(f\"Generationed: {answering}\")"
   ]
  },
  {
   "cell_type": "code",
   "execution_count": 16,
   "metadata": {},
   "outputs": [
    {
     "data": {
      "text/plain": [
       "' 간단한 만남 정도만 할 수 있어요\\n\\n            1. 침착맨님, 팬미팅 어디서 하나요? \\n            2. 침착맨님, 팬미팅 하는 날짜 알려줘 \\n            3. 침착맨님, 팬미팅 자리 예약하면 되나요?'"
      ]
     },
     "execution_count": 16,
     "metadata": {},
     "output_type": "execute_result"
    }
   ],
   "source": [
    "answering"
   ]
  },
  {
   "cell_type": "code",
   "execution_count": 20,
   "metadata": {},
   "outputs": [
    {
     "name": "stdout",
     "output_type": "stream",
     "text": [
      "['침착맨님, 팬미팅 어디서 하나요? ', '침착맨님, 팬미팅 하는 날짜 알려줘 ', '침착맨님, 팬미팅 자리 예약하면 되나요?']\n"
     ]
    }
   ],
   "source": [
    "import re\n",
    "\n",
    "# 정규표현식을 사용하여 원하는 패턴의 문장 추출\n",
    "pattern = r'\\d+\\.\\s(.+?)(?=\\n|$)'\n",
    "matches = re.findall(pattern, answering)\n",
    "\n",
    "# 결과 출력\n",
    "print(matches)"
   ]
  }
 ],
 "metadata": {
  "kernelspec": {
   "display_name": "chatbot",
   "language": "python",
   "name": "python3"
  },
  "language_info": {
   "codemirror_mode": {
    "name": "ipython",
    "version": 3
   },
   "file_extension": ".py",
   "mimetype": "text/x-python",
   "name": "python",
   "nbconvert_exporter": "python",
   "pygments_lexer": "ipython3",
   "version": "3.10.9"
  }
 },
 "nbformat": 4,
 "nbformat_minor": 2
}
